{
  "nbformat": 4,
  "nbformat_minor": 0,
  "metadata": {
    "colab": {
      "provenance": []
    },
    "kernelspec": {
      "name": "python3",
      "display_name": "Python 3"
    },
    "language_info": {
      "name": "python"
    }
  },
  "cells": [
    {
      "cell_type": "code",
      "execution_count": 19,
      "metadata": {
        "id": "AlEi0zVSof1M"
      },
      "outputs": [],
      "source": [
        "import pandas as pd\n",
        "import numpy as np\n",
        "import matplotlib.pyplot as plt\n",
        "import seaborn as sns\n",
        "\n"
      ]
    },
    {
      "cell_type": "code",
      "source": [
        "data=pd.read_csv(\"ACME-HappinessSurvey2020.csv\")\n",
        "print(data.shape)"
      ],
      "metadata": {
        "colab": {
          "base_uri": "https://localhost:8080/"
        },
        "id": "HLGulBU9qdaM",
        "outputId": "663fd744-ebb1-41b0-b1f9-f8423e5eeb16"
      },
      "execution_count": 20,
      "outputs": [
        {
          "output_type": "stream",
          "name": "stdout",
          "text": [
            "(126, 7)\n"
          ]
        }
      ]
    },
    {
      "cell_type": "markdown",
      "source": [
        "Analyzing data"
      ],
      "metadata": {
        "id": "vBTyLiOGrvdz"
      }
    },
    {
      "cell_type": "code",
      "source": [
        "#df=data.drop('Y')\n",
        "sns.countplot(x='Y', data=data)\n",
        "#sns.barplot(x = 'X1',y = 'Y',data = data)\n",
        "plt.show()\n"
      ],
      "metadata": {
        "colab": {
          "base_uri": "https://localhost:8080/",
          "height": 449
        },
        "id": "LgB6uB70rysM",
        "outputId": "b67aa1a9-c8b0-4383-c54f-e66b100810f5"
      },
      "execution_count": 21,
      "outputs": [
        {
          "output_type": "display_data",
          "data": {
            "text/plain": [
              "<Figure size 640x480 with 1 Axes>"
            ],
            "image/png": "[encoded data removed]"
          },
          "metadata": {}
        }
      ]
    },
    {
      "cell_type": "code",
      "source": [
        "X = data.drop('Y', axis=1)\n",
        "y = data['Y']\n",
        "from sklearn.model_selection import train_test_split\n",
        "\n",
        "X_train, X_test, y_train, y_test = train_test_split(X, y, test_size=0.3)\n"
      ],
      "metadata": {
        "id": "2vISFbyDyevD"
      },
      "execution_count": 22,
      "outputs": []
    },
    {
      "cell_type": "code",
      "source": [
        "#from sklearn.svm import SVC\n",
        "#from sklearn.linear_model import LogisticRegression\n",
        "#svc=SVC(probability=True, kernel='linear')\n",
        "#lr=LogisticRegression()\n",
        "from sklearn.ensemble import AdaBoostClassifier\n",
        "abc = AdaBoostClassifier(n_estimators=100000,\n",
        "                         learning_rate=1)\n",
        "model = abc.fit(X_train, y_train)\n",
        "\n",
        "y_pred = model.predict(X_test)"
      ],
      "metadata": {
        "id": "OhvWxxpCTdwp"
      },
      "execution_count": 23,
      "outputs": []
    },
    {
      "cell_type": "code",
      "source": [
        "#from sklearn.ensemble import AdaBoostClassifier\n",
        "#abc = AdaBoostClassifier(n_estimators=100000,\n",
        "                         #learning_rate=1)\n",
        "#model = abc.fit(X_train, y_train)\n",
        "\n",
        "#y_pred = model.predict(X_test)"
      ],
      "metadata": {
        "id": "jqnGf3IFQNjq"
      },
      "execution_count": 24,
      "outputs": []
    },
    {
      "cell_type": "markdown",
      "source": [
        "Using AdaBoost"
      ],
      "metadata": {
        "id": "MUP9HMSi1bpA"
      }
    },
    {
      "cell_type": "code",
      "source": [
        "from sklearn.metrics import accuracy_score\n",
        "print(\"Accuracy:\",accuracy_score(y_test, y_pred))"
      ],
      "metadata": {
        "id": "0YDbNsOJ0vyx",
        "colab": {
          "base_uri": "https://localhost:8080/"
        },
        "outputId": "cb1864f1-a85b-41cb-d183-7a3e3552f9f0"
      },
      "execution_count": 25,
      "outputs": [
        {
          "output_type": "stream",
          "name": "stdout",
          "text": [
            "Accuracy: 0.6842105263157895\n"
          ]
        }
      ]
    }
  ]
}