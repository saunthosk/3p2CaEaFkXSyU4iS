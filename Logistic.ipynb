{
  "nbformat": 4,
  "nbformat_minor": 0,
  "metadata": {
    "colab": {
      "provenance": []
    },
    "kernelspec": {
      "name": "python3",
      "display_name": "Python 3"
    },
    "language_info": {
      "name": "python"
    }
  },
  "cells": [
    {
      "cell_type": "code",
      "execution_count": 23,
      "metadata": {
        "id": "29SVXYrLL6jy"
      },
      "outputs": [],
      "source": [
        "import pandas as pd\n",
        "import numpy as np\n",
        "import matplotlib.pyplot as plt\n",
        "import seaborn as sns\n",
        "import scipy\n",
        "from scipy.stats import spearmanr\n",
        "\n"
      ]
    },
    {
      "cell_type": "code",
      "source": [
        "data=pd.read_csv(\"ACME-HappinessSurvey2020.csv\")\n",
        "print(data.shape)"
      ],
      "metadata": {
        "colab": {
          "base_uri": "https://localhost:8080/"
        },
        "id": "FI3OX9FhL_pW",
        "outputId": "89f51e2e-9d9e-4dcc-a247-5b3d7e59864b"
      },
      "execution_count": 24,
      "outputs": [
        {
          "output_type": "stream",
          "name": "stdout",
          "text": [
            "(126, 7)\n"
          ]
        }
      ]
    },
    {
      "cell_type": "code",
      "source": [
        "data['X1'].value_counts()\n"
      ],
      "metadata": {
        "colab": {
          "base_uri": "https://localhost:8080/"
        },
        "id": "a8SCpweRDtaK",
        "outputId": "6c7f0a89-e545-409b-917a-eddcddfac766"
      },
      "execution_count": 25,
      "outputs": [
        {
          "output_type": "execute_result",
          "data": {
            "text/plain": [
              "5    65\n",
              "4    40\n",
              "3    20\n",
              "1     1\n",
              "Name: X1, dtype: int64"
            ]
          },
          "metadata": {},
          "execution_count": 25
        }
      ]
    },
    {
      "cell_type": "code",
      "source": [
        "data['Y'].value_counts()"
      ],
      "metadata": {
        "colab": {
          "base_uri": "https://localhost:8080/"
        },
        "id": "Ur-y2-9FEltU",
        "outputId": "562c77ac-fcb8-483b-c55a-8e84b138536b"
      },
      "execution_count": 26,
      "outputs": [
        {
          "output_type": "execute_result",
          "data": {
            "text/plain": [
              "1    69\n",
              "0    57\n",
              "Name: Y, dtype: int64"
            ]
          },
          "metadata": {},
          "execution_count": 26
        }
      ]
    },
    {
      "cell_type": "code",
      "source": [
        "filt=((data['Y']==1) & (data['X1']>3))\n",
        "yes = data[filt]"
      ],
      "metadata": {
        "id": "Ks7gbYv-E6JR"
      },
      "execution_count": 27,
      "outputs": []
    },
    {
      "cell_type": "code",
      "source": [
        "yes = data[filt]\n",
        "yes.count"
      ],
      "metadata": {
        "colab": {
          "base_uri": "https://localhost:8080/"
        },
        "id": "qp-BOpDgFxoz",
        "outputId": "e490adc6-998f-40cf-e295-4cda4ad956d5"
      },
      "execution_count": 28,
      "outputs": [
        {
          "output_type": "execute_result",
          "data": {
            "text/plain": [
              "<bound method DataFrame.count of      Y  X1  X2  X3  X4  X5  X6\n",
              "2    1   5   3   3   3   3   5\n",
              "5    1   5   5   3   5   5   5\n",
              "7    1   5   4   4   4   4   5\n",
              "12   1   5   2   4   5   5   5\n",
              "17   1   5   1   4   3   4   5\n",
              "..  ..  ..  ..  ..  ..  ..  ..\n",
              "118  1   4   3   3   4   4   4\n",
              "119  1   5   5   1   1   5   1\n",
              "121  1   5   2   3   4   4   3\n",
              "122  1   5   2   3   4   2   5\n",
              "123  1   5   3   3   4   4   5\n",
              "\n",
              "[61 rows x 7 columns]>"
            ]
          },
          "metadata": {},
          "execution_count": 28
        }
      ]
    },
    {
      "cell_type": "code",
      "source": [
        "respo=data.iloc[:,1:6].values\n",
        "respo_name=['X1','X2','X3','X4','X5','X6']\n",
        "y=data.iloc[:,0].values\n"
      ],
      "metadata": {
        "id": "bZhJ0UYXn1Ka"
      },
      "execution_count": 29,
      "outputs": []
    },
    {
      "cell_type": "code",
      "source": [
        "X1=data['X1']\n",
        "X2=data['X2']\n",
        "X3=data['X3']\n",
        "X4=data['X4']\n",
        "X5=data['X5']\n",
        "X6=data['X6']\n",
        "\n",
        "data.corr(numeric_only=True, method='spearman')"
      ],
      "metadata": {
        "colab": {
          "base_uri": "https://localhost:8080/",
          "height": 269
        },
        "id": "CxeaMRVvq2Eo",
        "outputId": "e50222dc-e861-44ea-f367-a017ce4145f0"
      },
      "execution_count": 30,
      "outputs": [
        {
          "output_type": "execute_result",
          "data": {
            "text/plain": [
              "           Y        X1        X2        X3        X4        X5        X6\n",
              "Y   1.000000  0.291458 -0.034304  0.162199  0.081398  0.227306  0.174114\n",
              "X1  0.291458  1.000000  0.015683  0.228081  0.065851  0.422786  0.512855\n",
              "X2 -0.034304  0.015683  1.000000  0.156817  0.136659  0.030070 -0.037147\n",
              "X3  0.162199  0.228081  0.156817  1.000000  0.275266  0.406356  0.179754\n",
              "X4  0.081398  0.065851  0.136659  0.275266  1.000000  0.305012  0.141381\n",
              "X5  0.227306  0.422786  0.030070  0.406356  0.305012  1.000000  0.330066\n",
              "X6  0.174114  0.512855 -0.037147  0.179754  0.141381  0.330066  1.000000"
            ],
            "text/html": [
              "\n",
              "  <div id=\"df-46749ca5-051a-44d1-843c-3f7940f98a13\">\n",
              "    <div class=\"colab-df-container\">\n",
              "      <div>\n",
              "<style scoped>\n",
              "    .dataframe tbody tr th:only-of-type {\n",
              "        vertical-align: middle;\n",
              "    }\n",
              "\n",
              "    .dataframe tbody tr th {\n",
              "        vertical-align: top;\n",
              "    }\n",
              "\n",
              "    .dataframe thead th {\n",
              "        text-align: right;\n",
              "    }\n",
              "</style>\n",
              "<table border=\"1\" class=\"dataframe\">\n",
              "  <thead>\n",
              "    <tr style=\"text-align: right;\">\n",
              "      <th></th>\n",
              "      <th>Y</th>\n",
              "      <th>X1</th>\n",
              "      <th>X2</th>\n",
              "      <th>X3</th>\n",
              "      <th>X4</th>\n",
              "      <th>X5</th>\n",
              "      <th>X6</th>\n",
              "    </tr>\n",
              "  </thead>\n",
              "  <tbody>\n",
              "    <tr>\n",
              "      <th>Y</th>\n",
              "      <td>1.000000</td>\n",
              "      <td>0.291458</td>\n",
              "      <td>-0.034304</td>\n",
              "      <td>0.162199</td>\n",
              "      <td>0.081398</td>\n",
              "      <td>0.227306</td>\n",
              "      <td>0.174114</td>\n",
              "    </tr>\n",
              "    <tr>\n",
              "      <th>X1</th>\n",
              "      <td>0.291458</td>\n",
              "      <td>1.000000</td>\n",
              "      <td>0.015683</td>\n",
              "      <td>0.228081</td>\n",
              "      <td>0.065851</td>\n",
              "      <td>0.422786</td>\n",
              "      <td>0.512855</td>\n",
              "    </tr>\n",
              "    <tr>\n",
              "      <th>X2</th>\n",
              "      <td>-0.034304</td>\n",
              "      <td>0.015683</td>\n",
              "      <td>1.000000</td>\n",
              "      <td>0.156817</td>\n",
              "      <td>0.136659</td>\n",
              "      <td>0.030070</td>\n",
              "      <td>-0.037147</td>\n",
              "    </tr>\n",
              "    <tr>\n",
              "      <th>X3</th>\n",
              "      <td>0.162199</td>\n",
              "      <td>0.228081</td>\n",
              "      <td>0.156817</td>\n",
              "      <td>1.000000</td>\n",
              "      <td>0.275266</td>\n",
              "      <td>0.406356</td>\n",
              "      <td>0.179754</td>\n",
              "    </tr>\n",
              "    <tr>\n",
              "      <th>X4</th>\n",
              "      <td>0.081398</td>\n",
              "      <td>0.065851</td>\n",
              "      <td>0.136659</td>\n",
              "      <td>0.275266</td>\n",
              "      <td>1.000000</td>\n",
              "      <td>0.305012</td>\n",
              "      <td>0.141381</td>\n",
              "    </tr>\n",
              "    <tr>\n",
              "      <th>X5</th>\n",
              "      <td>0.227306</td>\n",
              "      <td>0.422786</td>\n",
              "      <td>0.030070</td>\n",
              "      <td>0.406356</td>\n",
              "      <td>0.305012</td>\n",
              "      <td>1.000000</td>\n",
              "      <td>0.330066</td>\n",
              "    </tr>\n",
              "    <tr>\n",
              "      <th>X6</th>\n",
              "      <td>0.174114</td>\n",
              "      <td>0.512855</td>\n",
              "      <td>-0.037147</td>\n",
              "      <td>0.179754</td>\n",
              "      <td>0.141381</td>\n",
              "      <td>0.330066</td>\n",
              "      <td>1.000000</td>\n",
              "    </tr>\n",
              "  </tbody>\n",
              "</table>\n",
              "</div>\n",
              "      <button class=\"colab-df-convert\" onclick=\"convertToInteractive('df-46749ca5-051a-44d1-843c-3f7940f98a13')\"\n",
              "              title=\"Convert this dataframe to an interactive table.\"\n",
              "              style=\"display:none;\">\n",
              "        \n",
              "  <svg xmlns=\"http://www.w3.org/2000/svg\" height=\"24px\"viewBox=\"0 0 24 24\"\n",
              "       width=\"24px\">\n",
              "    <path d=\"M0 0h24v24H0V0z\" fill=\"none\"/>\n",
              "    <path d=\"M18.56 5.44l.94 2.06.94-2.06 2.06-.94-2.06-.94-.94-2.06-.94 2.06-2.06.94zm-11 1L8.5 8.5l.94-2.06 2.06-.94-2.06-.94L8.5 2.5l-.94 2.06-2.06.94zm10 10l.94 2.06.94-2.06 2.06-.94-2.06-.94-.94-2.06-.94 2.06-2.06.94z\"/><path d=\"M17.41 7.96l-1.37-1.37c-.4-.4-.92-.59-1.43-.59-.52 0-1.04.2-1.43.59L10.3 9.45l-7.72 7.72c-.78.78-.78 2.05 0 2.83L4 21.41c.39.39.9.59 1.41.59.51 0 1.02-.2 1.41-.59l7.78-7.78 2.81-2.81c.8-.78.8-2.07 0-2.86zM5.41 20L4 18.59l7.72-7.72 1.47 1.35L5.41 20z\"/>\n",
              "  </svg>\n",
              "      </button>\n",
              "      \n",
              "  <style>\n",
              "    .colab-df-container {\n",
              "      display:flex;\n",
              "      flex-wrap:wrap;\n",
              "      gap: 12px;\n",
              "    }\n",
              "\n",
              "    .colab-df-convert {\n",
              "      background-color: #E8F0FE;\n",
              "      border: none;\n",
              "      border-radius: 50%;\n",
              "      cursor: pointer;\n",
              "      display: none;\n",
              "      fill: #1967D2;\n",
              "      height: 32px;\n",
              "      padding: 0 0 0 0;\n",
              "      width: 32px;\n",
              "    }\n",
              "\n",
              "    .colab-df-convert:hover {\n",
              "      background-color: #E2EBFA;\n",
              "      box-shadow: 0px 1px 2px rgba(60, 64, 67, 0.3), 0px 1px 3px 1px rgba(60, 64, 67, 0.15);\n",
              "      fill: #174EA6;\n",
              "    }\n",
              "\n",
              "    [theme=dark] .colab-df-convert {\n",
              "      background-color: #3B4455;\n",
              "      fill: #D2E3FC;\n",
              "    }\n",
              "\n",
              "    [theme=dark] .colab-df-convert:hover {\n",
              "      background-color: #434B5C;\n",
              "      box-shadow: 0px 1px 3px 1px rgba(0, 0, 0, 0.15);\n",
              "      filter: drop-shadow(0px 1px 2px rgba(0, 0, 0, 0.3));\n",
              "      fill: #FFFFFF;\n",
              "    }\n",
              "  </style>\n",
              "\n",
              "      <script>\n",
              "        const buttonEl =\n",
              "          document.querySelector('#df-46749ca5-051a-44d1-843c-3f7940f98a13 button.colab-df-convert');\n",
              "        buttonEl.style.display =\n",
              "          google.colab.kernel.accessAllowed ? 'block' : 'none';\n",
              "\n",
              "        async function convertToInteractive(key) {\n",
              "          const element = document.querySelector('#df-46749ca5-051a-44d1-843c-3f7940f98a13');\n",
              "          const dataTable =\n",
              "            await google.colab.kernel.invokeFunction('convertToInteractive',\n",
              "                                                     [key], {});\n",
              "          if (!dataTable) return;\n",
              "\n",
              "          const docLinkHtml = 'Like what you see? Visit the ' +\n",
              "            '<a target=\"_blank\" href=https://colab.research.google.com/notebooks/data_table.ipynb>data table notebook</a>'\n",
              "            + ' to learn more about interactive tables.';\n",
              "          element.innerHTML = '';\n",
              "          dataTable['output_type'] = 'display_data';\n",
              "          await google.colab.output.renderOutput(dataTable, element);\n",
              "          const docLink = document.createElement('div');\n",
              "          docLink.innerHTML = docLinkHtml;\n",
              "          element.appendChild(docLink);\n",
              "        }\n",
              "      </script>\n",
              "    </div>\n",
              "  </div>\n",
              "  "
            ]
          },
          "metadata": {},
          "execution_count": 30
        }
      ]
    },
    {
      "cell_type": "code",
      "source": [
        "plt.figure(figsize=(14,8))\n",
        "sns.heatmap(data.corr(numeric_only=True), annot=True, cmap='Blues')"
      ],
      "metadata": {
        "colab": {
          "base_uri": "https://localhost:8080/",
          "height": 644
        },
        "id": "ONO3qbvvs_KQ",
        "outputId": "3e58e845-0c1b-4805-81d0-431925b91af3"
      },
      "execution_count": 31,
      "outputs": [
        {
          "output_type": "execute_result",
          "data": {
            "text/plain": [
              "<Axes: >"
            ]
          },
          "metadata": {},
          "execution_count": 31
        },
        {
          "output_type": "display_data",
          "data": {
            "text/plain": [
              "<Figure size 1400x800 with 2 Axes>"
            ],
            "image/png": "[encoded data removed]"
          },
          "metadata": {}
        }
      ]
    },
    {
      "cell_type": "code",
      "source": [
        "data.isnull().sum"
      ],
      "metadata": {
        "colab": {
          "base_uri": "https://localhost:8080/"
        },
        "id": "kYWYdPf2ttK3",
        "outputId": "bbefd205-18ac-4800-e700-5ff15579c141"
      },
      "execution_count": 32,
      "outputs": [
        {
          "output_type": "execute_result",
          "data": {
            "text/plain": [
              "<bound method NDFrame._add_numeric_operations.<locals>.sum of          Y     X1     X2     X3     X4     X5     X6\n",
              "0    False  False  False  False  False  False  False\n",
              "1    False  False  False  False  False  False  False\n",
              "2    False  False  False  False  False  False  False\n",
              "3    False  False  False  False  False  False  False\n",
              "4    False  False  False  False  False  False  False\n",
              "..     ...    ...    ...    ...    ...    ...    ...\n",
              "121  False  False  False  False  False  False  False\n",
              "122  False  False  False  False  False  False  False\n",
              "123  False  False  False  False  False  False  False\n",
              "124  False  False  False  False  False  False  False\n",
              "125  False  False  False  False  False  False  False\n",
              "\n",
              "[126 rows x 7 columns]>"
            ]
          },
          "metadata": {},
          "execution_count": 32
        }
      ]
    },
    {
      "cell_type": "code",
      "source": [
        "sns.countplot(x=data['X6'], data= data, palette='hls')"
      ],
      "metadata": {
        "colab": {
          "base_uri": "https://localhost:8080/",
          "height": 466
        },
        "id": "lupAhjD9t2nm",
        "outputId": "d5f7f274-c3c2-42de-c1f6-640189fc6989"
      },
      "execution_count": 33,
      "outputs": [
        {
          "output_type": "execute_result",
          "data": {
            "text/plain": [
              "<Axes: xlabel='X6', ylabel='count'>"
            ]
          },
          "metadata": {},
          "execution_count": 33
        },
        {
          "output_type": "display_data",
          "data": {
            "text/plain": [
              "<Figure size 640x480 with 1 Axes>"
            ],
            "image/png": "[encoded data removed]"
          },
          "metadata": {}
        }
      ]
    },
    {
      "cell_type": "code",
      "source": [
        "X = data.drop('Y', axis=1)\n",
        "y = data['Y']\n",
        "from sklearn.model_selection import train_test_split\n",
        "\n",
        "X_train, X_test, y_train, y_test = train_test_split(X, y, test_size=0.3)\n"
      ],
      "metadata": {
        "id": "J5hTM1GzMLj_"
      },
      "execution_count": 34,
      "outputs": []
    },
    {
      "cell_type": "code",
      "source": [
        "from sklearn.linear_model import LogisticRegression\n",
        "logmodel = LogisticRegression()\n",
        "logmodel.fit(X_train, y_train)\n",
        "y_pred = logmodel.predict(X_test)"
      ],
      "metadata": {
        "id": "cfdnVyPdMMwR"
      },
      "execution_count": 35,
      "outputs": []
    },
    {
      "cell_type": "code",
      "source": [
        "from sklearn.metrics import accuracy_score, classification_report\n",
        "print(classification_report(y_test,y_pred))\n",
        "print(\"Accuracy:\",accuracy_score(y_test, y_pred))"
      ],
      "metadata": {
        "colab": {
          "base_uri": "https://localhost:8080/"
        },
        "id": "PABhQQmUMu7d",
        "outputId": "e750c60f-551d-4e92-bd37-ee994befeaca"
      },
      "execution_count": 36,
      "outputs": [
        {
          "output_type": "stream",
          "name": "stdout",
          "text": [
            "              precision    recall  f1-score   support\n",
            "\n",
            "           0       0.55      0.69      0.61        16\n",
            "           1       0.72      0.59      0.65        22\n",
            "\n",
            "    accuracy                           0.63        38\n",
            "   macro avg       0.64      0.64      0.63        38\n",
            "weighted avg       0.65      0.63      0.63        38\n",
            "\n",
            "Accuracy: 0.631578947368421\n"
          ]
        }
      ]
    }
  ]
}